{
 "cells": [
  {
   "cell_type": "code",
   "execution_count": 1,
   "metadata": {},
   "outputs": [],
   "source": [
    "import sys\n",
    "import os\n",
    "import numpy as np\n",
    "import pandas as pd\n",
    "import matplotlib.pyplot as plt\n",
    "\n",
    "sys.path.append(os.getcwd())\n",
    "\n",
    "import decentralbank"
   ]
  },
  {
   "cell_type": "code",
   "execution_count": 2,
   "metadata": {},
   "outputs": [
    {
     "name": "stdout",
     "output_type": "stream",
     "text": [
      "Sucessfully deposited 1000 ETH from Pool for Peter\n",
      "Sucessfully deposited 1000000 DAI from Pool for Peter\n",
      "Sucessfully deposited 1000000 USDC from Pool for Peter\n"
     ]
    }
   ],
   "source": [
    "decentralbank.print_ind = True\n",
    "\n",
    "# Create the Pool\n",
    "Decentralbank = decentralbank.pool()\n",
    "\n",
    "# Create the Users\n",
    "Peter = decentralbank.users(\"Peter\")\n",
    "\n",
    "# Create all the tokens here\n",
    "ETH = decentralbank.tokens('ETH')\n",
    "DAI = decentralbank.tokens('DAI')\n",
    "USDC = decentralbank.tokens('USDC')\n",
    "\n",
    "# User wallet\n",
    "Peter.wallet = {\"ETH\": 10000, \"DAI\": 10000000, \"USDC\": 10000000}\n",
    "\n",
    "# Set the price\n",
    "ETH.price = 1300\n",
    "ETH.true_price = ETH.price\n",
    "\n",
    "DAI.price = 1\n",
    "DAI.true_price = DAI.price\n",
    "\n",
    "USDC.price = 1\n",
    "USDC.true_price = USDC.price\n",
    "\n",
    "# Initial Deposit\n",
    "Peter.deposit(Decentralbank, ETH, 1000)\n",
    "Peter.deposit(Decentralbank, DAI, 1000000)\n",
    "Peter.deposit(Decentralbank, USDC, 1000000)"
   ]
  },
  {
   "cell_type": "code",
   "execution_count": 3,
   "metadata": {},
   "outputs": [
    {
     "name": "stdout",
     "output_type": "stream",
     "text": [
      "Sucessfully swapped 61284.16666666667 DAI from 50 ETH for Peter. Fees charged: 3715.8333333333303\n"
     ]
    }
   ],
   "source": [
    "Peter.swap(Decentralbank, ETH, DAI, 50)"
   ]
  },
  {
   "cell_type": "code",
   "execution_count": 4,
   "metadata": {},
   "outputs": [
    {
     "name": "stdout",
     "output_type": "stream",
     "text": [
      "Sucessfully swapped 22849.308228805196 DAI from 20 ETH for Peter. Fees charged: 3150.691771194805\n"
     ]
    }
   ],
   "source": [
    "Peter.swap(Decentralbank, ETH, DAI, 20)"
   ]
  },
  {
   "cell_type": "code",
   "execution_count": 5,
   "metadata": {},
   "outputs": [
    {
     "name": "stdout",
     "output_type": "stream",
     "text": [
      "Sucessfully withdrew 100021.84 DAI from Pool for Peter. Fees charge: 559.7259930848489.\n"
     ]
    }
   ],
   "source": [
    "Peter.withdraw(Decentralbank, DAI, 0.1)"
   ]
  },
  {
   "cell_type": "code",
   "execution_count": 6,
   "metadata": {},
   "outputs": [
    {
     "data": {
      "text/plain": [
       "900196.56"
      ]
     },
     "execution_count": 6,
     "metadata": {},
     "output_type": "execute_result"
    }
   ],
   "source": [
    "DAI.deposit"
   ]
  },
  {
   "cell_type": "code",
   "execution_count": 7,
   "metadata": {},
   "outputs": [
    {
     "data": {
      "text/plain": [
       "822997.9362021411"
      ]
     },
     "execution_count": 7,
     "metadata": {},
     "output_type": "execute_result"
    }
   ],
   "source": [
    "DAI.cash"
   ]
  },
  {
   "cell_type": "code",
   "execution_count": 8,
   "metadata": {},
   "outputs": [
    {
     "name": "stdout",
     "output_type": "stream",
     "text": [
      "Sucessfully swapped 11222.281529099419 USDC from 9999 DAI for Peter. Fees charged: -1223.2815290994174\n"
     ]
    }
   ],
   "source": [
    "Peter.swap(Decentralbank, DAI, USDC, 9999)"
   ]
  },
  {
   "cell_type": "code",
   "execution_count": 9,
   "metadata": {},
   "outputs": [
    {
     "name": "stdout",
     "output_type": "stream",
     "text": [
      "Sucessfully swapped 7.764606508863671 ETH from 9999 USDC for Peter. Fees charged: -0.07306804732521\n"
     ]
    }
   ],
   "source": [
    "Peter.swap(Decentralbank, USDC, ETH, 9999)"
   ]
  },
  {
   "cell_type": "code",
   "execution_count": 10,
   "metadata": {},
   "outputs": [
    {
     "name": "stdout",
     "output_type": "stream",
     "text": [
      "Token Balance:\n",
      "---------\n",
      "ETH Pool 1062.1392508284266\n",
      "ETH Reserve -0.09614266270982538\n",
      "DAI Pool 832996.9362021411\n",
      "DAI Reserve 6593.525104528135\n",
      "USDC Pool 997523.4399418011\n",
      "USDC Reserve -1253.2785290994175\n",
      "---------\n",
      "Wallet Balance:\n",
      "---------\n",
      "Peter Wallet {'ETH': 8937.764606508863, 'DAI': 9173596.588902388, 'USDC': 9001223.281529099}\n",
      "Peter LP_Token {'ETH': 1000, 'DAI': 900000.0, 'USDC': 1000000}\n"
     ]
    }
   ],
   "source": [
    "decentralbank.sys_print()"
   ]
  },
  {
   "cell_type": "code",
   "execution_count": null,
   "metadata": {},
   "outputs": [],
   "source": []
  }
 ],
 "metadata": {
  "kernelspec": {
   "display_name": "Python 3",
   "language": "python",
   "name": "python3"
  },
  "language_info": {
   "codemirror_mode": {
    "name": "ipython",
    "version": 3
   },
   "file_extension": ".py",
   "mimetype": "text/x-python",
   "name": "python",
   "nbconvert_exporter": "python",
   "pygments_lexer": "ipython3",
   "version": "3.7.6"
  }
 },
 "nbformat": 4,
 "nbformat_minor": 4
}
